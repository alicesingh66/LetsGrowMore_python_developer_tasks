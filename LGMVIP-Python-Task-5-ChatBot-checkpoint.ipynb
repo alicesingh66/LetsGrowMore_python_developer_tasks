{
 "cells": [
  {
   "cell_type": "code",
   "execution_count": null,
   "id": "c5231bcd",
   "metadata": {},
   "outputs": [],
   "source": [
    "!pip install nltk\n"
   ]
  },
  {
   "cell_type": "code",
   "execution_count": null,
   "id": "a317a773",
   "metadata": {},
   "outputs": [
    {
     "name": "stdout",
     "output_type": "stream",
     "text": [
      "Hi, I am a chatbot created for your assistance. Type 'quit' to exit.\n",
      ">Hello, I am Alice.\n",
      "Hey there\n",
      ">How are you?\n",
      "I'm doing good, How about you?\n",
      ">What is the sport you fancy?\n",
      "I am just a program, but I can be wherever you need me to be.\n",
      ">Who created you?\n",
      "I was created by a talented developer using Python's NLTK library\n"
     ]
    }
   ],
   "source": [
    "import nltk\n",
    "from nltk.chat.util import Chat, reflections\n",
    "\n",
    "# Define pairs of patterns and responses\n",
    "pairs = [\n",
    "    [\n",
    "        r\"my name is (.*)\",\n",
    "        [\"Hello %1, How can I help you today?\",]\n",
    "    ],\n",
    "    [\n",
    "        r\"hi|hey|hello\",\n",
    "        [\"Hello\", \"Hey there\",]\n",
    "    ],\n",
    "    [\n",
    "        r\"what is your name?\",\n",
    "        [\"I am a chatbot created for your assistance. You can call me Chatbot.\",]\n",
    "    ],\n",
    "    [\n",
    "        r\"how are you?\",\n",
    "        [\"I'm doing good, How about you?\",]\n",
    "    ],\n",
    "    [\n",
    "        r\"sorry (.*)\",\n",
    "        [\"Its alright\",\"Its OK, never mind\",]\n",
    "    ],\n",
    "    [\n",
    "        r\"I am (.*) (good|well|okay|ok)\",\n",
    "        [\"Nice to hear that\", \"Alright, great!\",]\n",
    "    ],\n",
    "    [\n",
    "        r\"(.*) age?\",\n",
    "        [\"I'm a computer program, so I don't have an age.\",]\n",
    "    ],\n",
    "    [\n",
    "        r\"what (.*) want?\",\n",
    "        [\"Make me an offer I can't refuse\",]\n",
    "    ],\n",
    "    [\n",
    "        r\"(.*) created?\",\n",
    "        [\"I was created by a talented developer using Python's NLTK library\",]\n",
    "    ],\n",
    "    [\n",
    "        r\"(.*) (location|city)?\",\n",
    "        ['I am just a program, but I can be wherever you need me to be.']\n",
    "    ],\n",
    "    [\n",
    "        r\"how (.*) (weather|temperature)?\",\n",
    "        [\"I am not able to provide weather updates at the moment.\"]\n",
    "    ],\n",
    "    [\n",
    "        r\"(.*) (sports|game)?\",\n",
    "        [\"I am a fan of many sports, but I particularly like programming!\"]\n",
    "    ],\n",
    "    [\n",
    "        r\"quit\",\n",
    "        [\"Bye, take care. See you soon!\", \"It was nice talking to you. Bye!\"]\n",
    "    ],\n",
    "    [\n",
    "        r\"(.*)\",\n",
    "        [\"I didn't understand that. Can you please rephrase?\"]\n",
    "    ]\n",
    "]\n",
    "\n",
    "# Initialize the chatbot\n",
    "chatbot = Chat(pairs, reflections)\n",
    "\n",
    "# Start the conversation\n",
    "print(\"Hi, I am a chatbot created for your assistance. Type 'quit' to exit.\")\n",
    "chatbot.converse()\n"
   ]
  },
  {
   "cell_type": "code",
   "execution_count": null,
   "id": "285f6f0e",
   "metadata": {},
   "outputs": [],
   "source": []
  },
  {
   "cell_type": "code",
   "execution_count": null,
   "id": "b2b0aaef",
   "metadata": {},
   "outputs": [],
   "source": []
  }
 ],
 "metadata": {
  "kernelspec": {
   "display_name": "Python 3 (ipykernel)",
   "language": "python",
   "name": "python3"
  },
  "language_info": {
   "codemirror_mode": {
    "name": "ipython",
    "version": 3
   },
   "file_extension": ".py",
   "mimetype": "text/x-python",
   "name": "python",
   "nbconvert_exporter": "python",
   "pygments_lexer": "ipython3",
   "version": "3.9.13"
  }
 },
 "nbformat": 4,
 "nbformat_minor": 5
}
