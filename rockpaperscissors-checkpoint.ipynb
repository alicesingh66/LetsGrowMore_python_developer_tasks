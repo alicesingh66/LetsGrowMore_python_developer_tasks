{
 "cells": [
  {
   "cell_type": "code",
   "execution_count": null,
   "id": "96046202",
   "metadata": {},
   "outputs": [],
   "source": [
    "import tkinter as tk\n",
    "from random import choice\n",
    "\n",
    "# Function to determine the winner\n",
    "def determine_winner(user_choice):\n",
    "    computer_choice = choice([\"Rock\", \"Paper\", \"Scissors\"])\n",
    "    result = \"\"\n",
    "    \n",
    "    if user_choice == computer_choice:\n",
    "        result = \"It's a tie!\"\n",
    "    elif (user_choice == \"Rock\" and computer_choice == \"Scissors\") or \\\n",
    "         (user_choice == \"Paper\" and computer_choice == \"Rock\") or \\\n",
    "         (user_choice == \"Scissors\" and computer_choice == \"Paper\"):\n",
    "        result = \"You win!\"\n",
    "    else:\n",
    "        result = \"You lose!\"\n",
    "    \n",
    "    result_label.config(text=f\"Computer chose: {computer_choice}\\n{result}\")\n",
    "\n",
    "# Function to handle button click\n",
    "def on_button_click(choice):\n",
    "    determine_winner(choice)\n",
    "\n",
    "# Create the main window\n",
    "window = tk.Tk()\n",
    "window.title(\"Rock Paper Scissors\")\n",
    "\n",
    "# Create and place labels, buttons, and result display\n",
    "instruction_label = tk.Label(window, text=\"Choose Rock, Paper, or Scissors:\", font=(\"Helvetica\", 14))\n",
    "instruction_label.pack(pady=10)\n",
    "\n",
    "button_frame = tk.Frame(window)\n",
    "button_frame.pack(pady=10)\n",
    "\n",
    "rock_button = tk.Button(button_frame, text=\"Rock\", font=(\"Helvetica\", 14), command=lambda: on_button_click(\"Rock\"))\n",
    "rock_button.grid(row=0, column=0, padx=10)\n",
    "\n",
    "paper_button = tk.Button(button_frame, text=\"Paper\", font=(\"Helvetica\", 14), command=lambda: on_button_click(\"Paper\"))\n",
    "paper_button.grid(row=0, column=1, padx=10)\n",
    "\n",
    "scissors_button = tk.Button(button_frame, text=\"Scissors\", font=(\"Helvetica\", 14), command=lambda: on_button_click(\"Scissors\"))\n",
    "scissors_button.grid(row=0, column=2, padx=10)\n",
    "\n",
    "result_label = tk.Label(window, text=\"\", font=(\"Helvetica\", 14), fg=\"blue\")\n",
    "result_label.pack(pady=20)\n",
    "\n",
    "# Run the application\n",
    "window.mainloop()\n"
   ]
  },
  {
   "cell_type": "code",
   "execution_count": null,
   "id": "d74c29c4",
   "metadata": {},
   "outputs": [],
   "source": []
  },
  {
   "cell_type": "code",
   "execution_count": null,
   "id": "dffd6eae",
   "metadata": {},
   "outputs": [],
   "source": []
  }
 ],
 "metadata": {
  "kernelspec": {
   "display_name": "Python 3 (ipykernel)",
   "language": "python",
   "name": "python3"
  },
  "language_info": {
   "codemirror_mode": {
    "name": "ipython",
    "version": 3
   },
   "file_extension": ".py",
   "mimetype": "text/x-python",
   "name": "python",
   "nbconvert_exporter": "python",
   "pygments_lexer": "ipython3",
   "version": "3.9.13"
  }
 },
 "nbformat": 4,
 "nbformat_minor": 5
}
