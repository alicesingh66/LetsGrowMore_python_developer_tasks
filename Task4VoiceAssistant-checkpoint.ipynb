{
 "cells": [
  {
   "cell_type": "code",
   "execution_count": 6,
   "id": "65cc8fe4",
   "metadata": {},
   "outputs": [
    {
     "name": "stdout",
     "output_type": "stream",
     "text": [
      "Requirement already satisfied: SpeechRecognition in c:\\users\\alice singh\\anaconda3\\lib\\site-packages (3.10.4)\n",
      "Requirement already satisfied: pyttsx3 in c:\\users\\alice singh\\anaconda3\\lib\\site-packages (2.90)\n",
      "Requirement already satisfied: pyaudio in c:\\users\\alice singh\\anaconda3\\lib\\site-packages (0.2.14)\n",
      "Requirement already satisfied: requests>=2.26.0 in c:\\users\\alice singh\\anaconda3\\lib\\site-packages (from SpeechRecognition) (2.28.1)\n",
      "Requirement already satisfied: typing-extensions in c:\\users\\alice singh\\anaconda3\\lib\\site-packages (from SpeechRecognition) (4.3.0)\n",
      "Requirement already satisfied: pypiwin32 in c:\\users\\alice singh\\anaconda3\\lib\\site-packages (from pyttsx3) (223)\n",
      "Requirement already satisfied: comtypes in c:\\users\\alice singh\\anaconda3\\lib\\site-packages (from pyttsx3) (1.1.10)\n",
      "Requirement already satisfied: pywin32 in c:\\users\\alice singh\\anaconda3\\lib\\site-packages (from pyttsx3) (302)\n",
      "Requirement already satisfied: urllib3<1.27,>=1.21.1 in c:\\users\\alice singh\\anaconda3\\lib\\site-packages (from requests>=2.26.0->SpeechRecognition) (1.26.11)\n",
      "Requirement already satisfied: charset-normalizer<3,>=2 in c:\\users\\alice singh\\anaconda3\\lib\\site-packages (from requests>=2.26.0->SpeechRecognition) (2.0.4)\n",
      "Requirement already satisfied: certifi>=2017.4.17 in c:\\users\\alice singh\\anaconda3\\lib\\site-packages (from requests>=2.26.0->SpeechRecognition) (2022.9.14)\n",
      "Requirement already satisfied: idna<4,>=2.5 in c:\\users\\alice singh\\anaconda3\\lib\\site-packages (from requests>=2.26.0->SpeechRecognition) (3.3)\n"
     ]
    }
   ],
   "source": [
    "!pip install SpeechRecognition pyttsx3 pyaudio\n"
   ]
  },
  {
   "cell_type": "code",
   "execution_count": 7,
   "id": "dc66c313",
   "metadata": {},
   "outputs": [],
   "source": [
    "import speech_recognition as sr\n",
    "import pyttsx3\n"
   ]
  },
  {
   "cell_type": "code",
   "execution_count": 8,
   "id": "e90fad88",
   "metadata": {},
   "outputs": [],
   "source": [
    "# Initialize the recognizer\n",
    "recognizer = sr.Recognizer()\n",
    "\n",
    "# Initialize the TTS engine\n",
    "tts_engine = pyttsx3.init()\n",
    "\n",
    "# Optional: Set properties for the TTS engine\n",
    "tts_engine.setProperty('rate', 150)  # Speed percent (can go over 100)\n",
    "tts_engine.setProperty('volume', 0.9)  # Volume 0-1\n"
   ]
  },
  {
   "cell_type": "code",
   "execution_count": 9,
   "id": "f4abf075",
   "metadata": {},
   "outputs": [],
   "source": [
    "def recognize_speech():\n",
    "    \"\"\"\n",
    "    Recognize speech using the microphone and return the text.\n",
    "    \"\"\"\n",
    "    with sr.Microphone() as source:\n",
    "        print(\"Listening...\")\n",
    "        recognizer.adjust_for_ambient_noise(source)  # Adjust for ambient noise\n",
    "        audio = recognizer.listen(source)\n",
    "        \n",
    "        try:\n",
    "            print(\"Recognizing...\")\n",
    "            text = recognizer.recognize_google(audio)\n",
    "            print(f\"Recognized Text: {text}\")\n",
    "            return text\n",
    "        except sr.UnknownValueError:\n",
    "            print(\"Sorry, I did not understand that.\")\n",
    "            return None\n",
    "        except sr.RequestError:\n",
    "            print(\"Sorry, my speech service is down.\")\n",
    "            return None\n",
    "\n",
    "def respond(text):\n",
    "    \"\"\"\n",
    "    Respond with the given text using TTS.\n",
    "    \"\"\"\n",
    "    print(f\"Assistant: {text}\")\n",
    "    tts_engine.say(text)\n",
    "    tts_engine.runAndWait()\n"
   ]
  },
  {
   "cell_type": "code",
   "execution_count": 5,
   "id": "e1c4ce64",
   "metadata": {},
   "outputs": [
    {
     "name": "stdout",
     "output_type": "stream",
     "text": [
      "Listening...\n",
      "Recognizing...\n",
      "Recognized Text: hello\n",
      "Assistant: Hello! How can I help you today?\n",
      "Listening...\n",
      "Recognizing...\n",
      "Recognized Text: what is the weather outside\n",
      "Assistant: You said: what is the weather outside\n",
      "Listening...\n",
      "Recognizing...\n",
      "Recognized Text: yes I said that\n",
      "Assistant: You said: yes I said that\n",
      "Listening...\n",
      "Recognizing...\n",
      "Sorry, I did not understand that.\n",
      "Listening...\n",
      "Recognizing...\n",
      "Sorry, I did not understand that.\n",
      "Listening...\n",
      "Recognizing...\n",
      "Sorry, I did not understand that.\n",
      "Listening...\n",
      "Recognizing...\n",
      "Recognized Text: exit\n",
      "Assistant: Goodbye!\n"
     ]
    }
   ],
   "source": [
    "while True:\n",
    "    command = recognize_speech()\n",
    "    if command:\n",
    "        if \"exit\" in command.lower():\n",
    "            respond(\"Goodbye!\")\n",
    "            break\n",
    "        elif \"hello\" in command.lower():\n",
    "            respond(\"Hello! How can I help you today?\")\n",
    "        elif \"your name\" in command.lower():\n",
    "            respond(\"I am your voice assistant.\")\n",
    "        elif \"time\" in command.lower():\n",
    "            import datetime\n",
    "            now = datetime.datetime.now().strftime(\"%H:%M\")\n",
    "            respond(f\"The current time is {now}\")\n",
    "        else:\n",
    "            respond(f\"You said: {command}\")\n"
   ]
  },
  {
   "cell_type": "code",
   "execution_count": null,
   "id": "22576fab",
   "metadata": {},
   "outputs": [],
   "source": []
  },
  {
   "cell_type": "code",
   "execution_count": null,
   "id": "591f2ac7",
   "metadata": {},
   "outputs": [],
   "source": []
  }
 ],
 "metadata": {
  "kernelspec": {
   "display_name": "Python 3 (ipykernel)",
   "language": "python",
   "name": "python3"
  },
  "language_info": {
   "codemirror_mode": {
    "name": "ipython",
    "version": 3
   },
   "file_extension": ".py",
   "mimetype": "text/x-python",
   "name": "python",
   "nbconvert_exporter": "python",
   "pygments_lexer": "ipython3",
   "version": "3.9.13"
  }
 },
 "nbformat": 4,
 "nbformat_minor": 5
}
